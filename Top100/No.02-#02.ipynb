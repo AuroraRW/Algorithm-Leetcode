{
 "cells": [
  {
   "cell_type": "markdown",
   "metadata": {},
   "source": [
    "### 2. Add Two Numbers\n",
    "You are given two non-empty linked lists representing two non-negative integers. The digits are stored in reverse order and each of their nodes contain a single digit. Add the two numbers and return it as a linked list.\n",
    "\n",
    "You may assume the two numbers do not contain any leading zero, except the number 0 itself.\n",
    "\n",
    "Example:\n",
    "\n",
    "Input: (2 -> 4 -> 3) + (5 -> 6 -> 4)  \n",
    "Output: 7 -> 0 -> 8  \n",
    "Explanation: 342 + 465 = 807.\n",
    "\n"
   ]
  },
  {
   "cell_type": "code",
   "execution_count": 24,
   "metadata": {},
   "outputs": [],
   "source": [
    "# Definition for singly-linked list.\n",
    "class ListNode:\n",
    "    def __init__(self, x):\n",
    "        self.val = x\n",
    "        self.next = None"
   ]
  },
  {
   "cell_type": "code",
   "execution_count": 25,
   "metadata": {},
   "outputs": [],
   "source": [
    "class Solution:\n",
    "    def addTwoNumbers(self, l1: ListNode, l2: ListNode) -> ListNode:\n",
    "        result = ListNode(None)\n",
    "        carry = 0\n",
    "        resultPointer = result\n",
    "        while l1 != None or l2 != None:\n",
    "            sum = carry + (l1.val if l1 else 0) + (l2.val if l2 else 0)\n",
    "            carry = (1 if sum >= 10 else 0)\n",
    "            sum = sum %10\n",
    "            temp = ListNode(sum)\n",
    "            resultPointer.next = temp\n",
    "            resultPointer = resultPointer.next\n",
    "            \n",
    "            if l1:\n",
    "                l1 = l1.next\n",
    "            if l2:\n",
    "                l2 = l2.next\n",
    "        if carry > 0:\n",
    "            temp.next = ListNode(carry)\n",
    "        return result.next"
   ]
  },
  {
   "cell_type": "code",
   "execution_count": 42,
   "metadata": {},
   "outputs": [],
   "source": [
    "class Solution:\n",
    "    def addTwoNumbers(self, l1: ListNode, l2: ListNode) -> ListNode:\n",
    "        n1 = l1\n",
    "        n2 = l2\n",
    "        carry = 0\n",
    "        res = ListNode(0)\n",
    "        cur_res = res\n",
    "        \n",
    "        while n1 != None or n2 != None or carry:\n",
    "            sum_val = (n1.val if n1 else 0) + (n2.val if n2 else 0) + carry\n",
    "            digit_val = sum_val % 10\n",
    "            carry = sum_val // 10\n",
    "            \n",
    "            cur_res.next = ListNode(digit_val)\n",
    "            cur_res = cur_res.next\n",
    "            \n",
    "            if n1:\n",
    "                n1 = n1.next\n",
    "            if n2:\n",
    "                n2 = n2.next\n",
    "        \n",
    "        return res.next"
   ]
  },
  {
   "cell_type": "code",
   "execution_count": null,
   "metadata": {},
   "outputs": [],
   "source": []
  }
 ],
 "metadata": {
  "kernelspec": {
   "display_name": "Alg",
   "language": "python",
   "name": "alg"
  },
  "language_info": {
   "codemirror_mode": {
    "name": "ipython",
    "version": 3
   },
   "file_extension": ".py",
   "mimetype": "text/x-python",
   "name": "python",
   "nbconvert_exporter": "python",
   "pygments_lexer": "ipython3",
   "version": "3.7.3"
  }
 },
 "nbformat": 4,
 "nbformat_minor": 2
}
