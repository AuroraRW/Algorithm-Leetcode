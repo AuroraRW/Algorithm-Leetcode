{
 "cells": [
  {
   "cell_type": "markdown",
   "metadata": {},
   "source": [
    "### 3. Longest Substring Without Repeating Characters\n",
    "Given a string, find the length of the longest substring without repeating characters.\n",
    "\n",
    "Example 1:\n",
    "\n",
    "Input: \"abcabcbb\"\n",
    "Output: 3 \n",
    "Explanation: The answer is \"abc\", with the length of 3. \n",
    "\n",
    "Example 2:\n",
    "\n",
    "Input: \"bbbbb\"\n",
    "Output: 1\n",
    "Explanation: The answer is \"b\", with the length of 1.\n",
    "\n",
    "Example 3:\n",
    "\n",
    "Input: \"pwwkew\"\n",
    "Output: 3\n",
    "Explanation: The answer is \"wke\", with the length of 3. \n",
    "             Note that the answer must be a substring, \"pwke\" is a subsequence and not a substring.\n"
   ]
  },
  {
   "cell_type": "code",
   "execution_count": 26,
   "metadata": {},
   "outputs": [],
   "source": [
    "#Aproach 1: Brute Force\n",
    "#Time Exceeded!!!\n",
    "#Time Complexity: O(n^3) Loop:O(n^2) Check:O(n)\n",
    "#Space Complexity: O(n)\n",
    "class Solution:\n",
    "    def lengthOfLongestSubstring(self, s: str) -> int:\n",
    "        result = 1\n",
    "        if s == \"\":\n",
    "            return 0\n",
    "        if len(s)==1:\n",
    "            return 1\n",
    "        for i in range(len(s)-1):\n",
    "            for j in range(i+1, len(s)):\n",
    "                temp = set(s[i:j+1])\n",
    "                if len(s[i:j+1]) is len(temp):\n",
    "                    result = max(result, len(temp))          \n",
    "        return result"
   ]
  },
  {
   "cell_type": "code",
   "execution_count": 39,
   "metadata": {},
   "outputs": [],
   "source": [
    "class Solution:\n",
    "    def lengthOfLongestSubstring(self, s: str) -> int:\n",
    "        result = 0\n",
    "        temp={}\n",
    "        for i in range(len(s)):\n",
    "            temp={}\n",
    "            temp[s[i]]=i\n",
    "            j=i+1\n",
    "            while j<len(s):\n",
    "                if s[j] not in temp:\n",
    "                    temp[s[j]]=j\n",
    "                else:\n",
    "                    break\n",
    "                j=j+1\n",
    "            result = max(result, len(temp)) \n",
    "        return result"
   ]
  }
 ],
 "metadata": {
  "kernelspec": {
   "display_name": "Alg",
   "language": "python",
   "name": "alg"
  },
  "language_info": {
   "codemirror_mode": {
    "name": "ipython",
    "version": 3
   },
   "file_extension": ".py",
   "mimetype": "text/x-python",
   "name": "python",
   "nbconvert_exporter": "python",
   "pygments_lexer": "ipython3",
   "version": "3.7.3"
  }
 },
 "nbformat": 4,
 "nbformat_minor": 2
}
