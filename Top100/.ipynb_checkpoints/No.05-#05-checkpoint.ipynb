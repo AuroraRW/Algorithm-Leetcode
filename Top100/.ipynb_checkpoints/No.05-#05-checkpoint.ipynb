{
 "cells": [
  {
   "cell_type": "markdown",
   "metadata": {},
   "source": [
    "### 5. Longest Palindromic Substring\n",
    "Given a string s, find the longest palindromic substring in s. You may assume that the maximum length of s is 1000.\n",
    "\n",
    "Example 1:\n",
    "\n",
    "Input: \"babad\"  \n",
    "Output: \"bab\"  \n",
    "Note: \"aba\" is also a valid answer.\n",
    "\n",
    "Example 2:\n",
    "\n",
    "Input: \"cbbd\"  \n",
    "Output: \"bb\"\n"
   ]
  },
  {
   "cell_type": "code",
   "execution_count": 21,
   "metadata": {},
   "outputs": [],
   "source": [
    "# substring 子串，连续\n",
    "# subsequence 子序列，不连续\n",
    "#This problem should be O(n^2). It will be time exceed if O(n^3)"
   ]
  },
  {
   "cell_type": "code",
   "execution_count": 29,
   "metadata": {},
   "outputs": [],
   "source": [
    "# Approach 1: Brute Force\n",
    "# O(n^3), time exceeded\n",
    "class Solution:\n",
    "    def longestPalindrome(self, s: str) -> str:\n",
    "        \n",
    "        def isPalindrome(s, l, r):\n",
    "            while l<r:\n",
    "            #defensive programming\n",
    "                if s[l] != s[r]:\n",
    "                    return False\n",
    "                l += 1\n",
    "                r -= 1\n",
    "            return True\n",
    "        \n",
    "        best = \"\"\n",
    "        for i in range(len(s)):\n",
    "            for j in range(i,len(s)):\n",
    "                if j-i+1>len(best) and isPalindrome(s,i,j):\n",
    "                    best=s[i:j+1]\n",
    "        return best              "
   ]
  },
  {
   "cell_type": "code",
   "execution_count": 31,
   "metadata": {},
   "outputs": [],
   "source": [
    "# Approach 2: DP\n",
    "#Time: O(n^2)\n",
    "#Space:O(1)\n",
    "class Solution:\n",
    "    def longestPalindrome(self, s: str) -> str:\n",
    "        def getlen(l,r):\n",
    "            while l>=0 and r<n and s[l]==s[r]:\n",
    "                l-=1\n",
    "                r+=1\n",
    "            return r-l-1\n",
    "        \n",
    "        n=len(s)\n",
    "        start=0\n",
    "        length=0\n",
    "        for i in range(n):\n",
    "            cur=max(getlen(i,i),getlen(i,i+1))\n",
    "            if cur<=length:\n",
    "                continue\n",
    "            length =cur\n",
    "            start=i-(cur-1)//2\n",
    "            \n",
    "        return s[start:start+length]"
   ]
  },
  {
   "cell_type": "code",
   "execution_count": null,
   "metadata": {},
   "outputs": [],
   "source": []
  }
 ],
 "metadata": {
  "kernelspec": {
   "display_name": "Python 3",
   "language": "python",
   "name": "python3"
  },
  "language_info": {
   "codemirror_mode": {
    "name": "ipython",
    "version": 3
   },
   "file_extension": ".py",
   "mimetype": "text/x-python",
   "name": "python",
   "nbconvert_exporter": "python",
   "pygments_lexer": "ipython3",
   "version": "3.7.3"
  }
 },
 "nbformat": 4,
 "nbformat_minor": 2
}
