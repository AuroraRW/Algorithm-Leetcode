{
 "cells": [
  {
   "cell_type": "markdown",
   "metadata": {},
   "source": [
    "### Happy Number\n",
    "Write an algorithm to determine if a number is \"happy\".\n",
    "\n",
    "A happy number is a number defined by the following process: Starting with any positive integer, replace the number by the sum of the squares of its digits, and repeat the process until the number equals 1 (where it will stay), or it loops endlessly in a cycle which does not include 1. Those numbers for which this process ends in 1 are happy numbers.\n",
    "\n",
    "Example: \n",
    "\n",
    "Input: 19  \n",
    "Output: true\n",
    "Explanation:   \n",
    "1<sup>2</sup> + 9<sup>2</sup> = 82  \n",
    "8<sup>2</sup> + 2<sup>2</sup> = 68  \n",
    "6<sup>2</sup> + 8<sup>2</sup> = 100  \n",
    "1<sup>2</sup> + 0<sup>2</sup> + 0<sup>2</sup> = 1\n"
   ]
  },
  {
   "cell_type": "code",
   "execution_count": 13,
   "metadata": {},
   "outputs": [],
   "source": [
    "class Solution:\n",
    "    def isHappy(self, n: int) -> bool:\n",
    "        temp=set()\n",
    "        while n!=1 and n not in temp:\n",
    "            temp.add(n)\n",
    "            n=sum([int(x)*int(x) for x in list(str(n))])\n",
    "            \n",
    "        if n==1:\n",
    "            return True\n",
    "        else:\n",
    "            return False"
   ]
  },
  {
   "cell_type": "code",
   "execution_count": null,
   "metadata": {},
   "outputs": [],
   "source": []
  },
  {
   "cell_type": "code",
   "execution_count": 13,
   "metadata": {},
   "outputs": [],
   "source": [
    "class Sotion:\n",
    "    def isHappy(self, n: int) -> bool:\n",
    "        temp=set()\n",
    "        while n!=1 and n not in temp:\n",
    "            temp.add(n)\n",
    "            n=sum([int(x)*int(x) for x in list(str(n))])\n",
    "            \n",
    "        if n==1:\n",
    "            return Truen list(str\n",
    "        else:\n",
    "            return False√√√√√√√√√ vvvvVVVVVvv"
   ]
  },
  {
   "cell_type": "code",
   "execution_count": null,
   "metadata": {},
   "outputs": [],
   "source": []
  },
  {
   "cell_type": "code",
   "execution_count": 13,
   "metadata": {},
   "outputs": [],
   "source": [
    "class Sotion:\n",
    "    def isHappy(self, n: int) -> bool:\n",
    "        temp=set()\n",
    "        while n!=1 and n not in temp:\n",
    "            temp.add(n)\n",
    "            n=sum([int(x)*int(x) for x in list(str(n))])\n",
    "            \n",
    "        if n==1:\n",
    "            return Truen list(str\n",
    "        else:\n",
    "            return False√√√√√√√√√ vvvvVVVVVvv"
   ]
  }
 ],
 "metadata": {
  "kernelspec": {
   "display_name": "Python 3",
   "language": "python",
   "name": "python3"
  },
  "language_info": {
   "codemirror_mode": {
    "name": "ipython",
    "version": 3
   },
   "file_extension": ".py",
   "mimetype": "text/x-python",
   "name": "python",
   "nbconvert_exporter": "python",
   "pygments_lexer": "ipython3",
   "version": "3.7.3"
  }
 },
 "nbformat": 4,
 "nbformat_minor": 4
}
