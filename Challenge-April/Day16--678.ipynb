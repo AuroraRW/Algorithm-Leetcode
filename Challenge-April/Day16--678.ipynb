{
 "cells": [
  {
   "cell_type": "markdown",
   "metadata": {},
   "source": [
    "### Valid Parenthesis String\n",
    "Given a string containing only three types of characters: '(', ')' and '*', write a function to check whether this string is valid. We define the validity of a string by these rules:\n",
    "\n",
    "Any left parenthesis '(' must have a corresponding right parenthesis ')'.  \n",
    "Any right parenthesis ')' must have a corresponding left parenthesis '('.  \n",
    "Left parenthesis '(' must go before the corresponding right parenthesis ')'.  \n",
    "'*' could be treated as a single right parenthesis ')' or a single left parenthesis '(' or an empty string.  \n",
    "An empty string is also valid.\n",
    "\n",
    "Example 1:\n",
    "\n",
    "Input: \"()\"  \n",
    "Output: True  \n",
    "\n",
    "Example 2:\n",
    "\n",
    "Input: \"(*)\"  \n",
    "Output: True\n",
    "\n",
    "Example 3:\n",
    "\n",
    "Input: \"(*))\"  \n",
    "Output: True\n",
    "\n",
    "Note:\n",
    "\n",
    "The string size will be in the range [1, 100].\n"
   ]
  },
  {
   "cell_type": "code",
   "execution_count": null,
   "metadata": {},
   "outputs": [],
   "source": []
  }
 ],
 "metadata": {
  "kernelspec": {
   "display_name": "Python 3",
   "language": "python",
   "name": "python3"
  },
  "language_info": {
   "codemirror_mode": {
    "name": "ipython",
    "version": 3
   },
   "file_extension": ".py",
   "mimetype": "text/x-python",
   "name": "python",
   "nbconvert_exporter": "python",
   "pygments_lexer": "ipython3",
   "version": "3.7.3"
  }
 },
 "nbformat": 4,
 "nbformat_minor": 4
}
