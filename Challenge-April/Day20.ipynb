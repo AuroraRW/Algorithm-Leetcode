{
 "cells": [
  {
   "cell_type": "code",
   "execution_count": 3,
   "metadata": {},
   "outputs": [],
   "source": [
    "from typing import List"
   ]
  },
  {
   "cell_type": "code",
   "execution_count": 10,
   "metadata": {},
   "outputs": [],
   "source": [
    "class Solution:\n",
    "    def search(self, nums: List[int], target: int) -> int:\n",
    "\n",
    "        def binarySearch (arr, l, r, x): \n",
    "            print(l,'--',r)\n",
    "  \n",
    "            # 基本判断\n",
    "            if r >= l: \n",
    "  \n",
    "                mid = int(l + (r - l)/2)\n",
    "                print(mid)\n",
    "  \n",
    "                # 元素整好的中间位置\n",
    "                if arr[mid] == x: \n",
    "                    return mid \n",
    "          \n",
    "                # 元素小于中间位置的元素，只需要再比较左边的元素\n",
    "                elif arr[mid] > x: \n",
    "                    return binarySearch(arr, l, mid-1, x) \n",
    "  \n",
    "                # 元素大于中间位置的元素，只需要再比较右边的元素\n",
    "                else: \n",
    "                    return binarySearch(arr, mid+1, r, x) \n",
    "  \n",
    "            else: \n",
    "                # 不存在\n",
    "                return -1\n",
    "            \n",
    "        return binarySearch(nums,0,len(nums)-1,target)"
   ]
  },
  {
   "cell_type": "code",
   "execution_count": 11,
   "metadata": {},
   "outputs": [
    {
     "name": "stdout",
     "output_type": "stream",
     "text": [
      "0 -- 6\n",
      "3\n",
      "0 -- 2\n",
      "1\n",
      "0 -- 0\n",
      "0\n",
      "0 -- -1\n"
     ]
    },
    {
     "data": {
      "text/plain": [
       "-1"
      ]
     },
     "execution_count": 11,
     "metadata": {},
     "output_type": "execute_result"
    }
   ],
   "source": [
    "S=Solution()\n",
    "S.search([4,5,6,7,0,1,2],0)"
   ]
  },
  {
   "cell_type": "code",
   "execution_count": null,
   "metadata": {},
   "outputs": [],
   "source": []
  }
 ],
 "metadata": {
  "kernelspec": {
   "display_name": "Python 3",
   "language": "python",
   "name": "python3"
  },
  "language_info": {
   "codemirror_mode": {
    "name": "ipython",
    "version": 3
   },
   "file_extension": ".py",
   "mimetype": "text/x-python",
   "name": "python",
   "nbconvert_exporter": "python",
   "pygments_lexer": "ipython3",
   "version": "3.7.3"
  }
 },
 "nbformat": 4,
 "nbformat_minor": 4
}
