{
 "cells": [
  {
   "cell_type": "markdown",
   "metadata": {},
   "source": [
    "### Contiguous Array\n",
    "Given a binary array, find the maximum length of a contiguous subarray with equal number of 0 and 1.\n",
    "\n",
    "Example 1:\n",
    "\n",
    "Input: [0,1]  \n",
    "Output: 2  \n",
    "Explanation: [0, 1] is the longest contiguous subarray with equal number of 0 and 1.  \n",
    " \n",
    "Example 2:  \n",
    "\n",
    "Input: [0,1,0]  \n",
    "Output: 2  \n",
    "Explanation: [0, 1] (or [1, 0]) is a longest contiguous subarray with equal number of 0 and 1.  \n",
    "Note: The length of the given binary array will not exceed 50,000.\n"
   ]
  },
  {
   "cell_type": "code",
   "execution_count": 2,
   "metadata": {},
   "outputs": [],
   "source": [
    "from typing import List"
   ]
  },
  {
   "cell_type": "code",
   "execution_count": 12,
   "metadata": {},
   "outputs": [],
   "source": [
    "# Time Limited Exceeded\n",
    "from collections import Counter\n",
    "class Solution:\n",
    "    def findMaxLength(self, nums: List[int]) -> int:\n",
    "        length = len(nums)\n",
    "        if length % 2 == 1:\n",
    "            sublength = length - 1\n",
    "        else:\n",
    "            sublength = length\n",
    "        \n",
    "        print(sublength)\n",
    "        while sublength>0:\n",
    "            for i in range(length-sublength+1):\n",
    "                v=list(Counter(nums[i:sublength+i]).values())\n",
    "                if len(v)>1:\n",
    "                    if v[0]==v[1]:\n",
    "                        return sublength\n",
    "            sublength =sublength - 2\n",
    "            print(sublength)\n",
    "        \n",
    "        return 0"
   ]
  },
  {
   "cell_type": "code",
   "execution_count": 33,
   "metadata": {},
   "outputs": [],
   "source": [
    "# Should consider time complex is O(n) or O(log(n)), because the max length is 50000\n",
    "# transfor 0->-1, so the sum of subarray with equal number of 0 and 1 is 0\n",
    "class Solution:\n",
    "    def findMaxLength(self, nums: List[int]) -> int:\n",
    "        #numsList=[i if i==1 else -1 for i in nums]\n",
    "        #{sum:index}\n",
    "        numsDic=dict()\n",
    "        result=0\n",
    "        s=0\n",
    "        for i in range(len(nums)):\n",
    "            if nums[i]>0:\n",
    "                s += 1\n",
    "            else:\n",
    "                s -= 1\n",
    "                \n",
    "            if s==0:\n",
    "                result=i+1\n",
    "            elif s in numsDic.keys():\n",
    "                result=max(result, i-numsDic[s])\n",
    "            else:\n",
    "                numsDic[s]=i\n",
    "            print(numsDic)   \n",
    "            print(result)\n",
    "        return result\n"
   ]
  },
  {
   "cell_type": "code",
   "execution_count": 34,
   "metadata": {},
   "outputs": [
    {
     "name": "stdout",
     "output_type": "stream",
     "text": [
      "{-1: 0}\n",
      "0\n",
      "{-1: 0}\n",
      "2\n",
      "{-1: 0, 1: 2}\n",
      "2\n",
      "{-1: 0, 1: 2}\n",
      "4\n",
      "{-1: 0, 1: 2}\n",
      "4\n",
      "{-1: 0, 1: 2, 2: 5}\n",
      "4\n",
      "{-1: 0, 1: 2, 2: 5, 3: 6}\n",
      "4\n",
      "{-1: 0, 1: 2, 2: 5, 3: 6}\n",
      "4\n"
     ]
    },
    {
     "data": {
      "text/plain": [
       "4"
      ]
     },
     "execution_count": 34,
     "metadata": {},
     "output_type": "execute_result"
    }
   ],
   "source": [
    "S=Solution()\n",
    "S.findMaxLength([0,1,1,0,1,1,1,0])"
   ]
  },
  {
   "cell_type": "code",
   "execution_count": 17,
   "metadata": {},
   "outputs": [
    {
     "name": "stdout",
     "output_type": "stream",
     "text": [
      "a\n"
     ]
    }
   ],
   "source": [
    "a={1:2,2:3}\n",
    "if 1 in a.keys():\n",
    "    print('a')"
   ]
  },
  {
   "cell_type": "code",
   "execution_count": null,
   "metadata": {},
   "outputs": [],
   "source": []
  }
 ],
 "metadata": {
  "kernelspec": {
   "display_name": "Python 3",
   "language": "python",
   "name": "python3"
  },
  "language_info": {
   "codemirror_mode": {
    "name": "ipython",
    "version": 3
   },
   "file_extension": ".py",
   "mimetype": "text/x-python",
   "name": "python",
   "nbconvert_exporter": "python",
   "pygments_lexer": "ipython3",
   "version": "3.7.3"
  }
 },
 "nbformat": 4,
 "nbformat_minor": 4
}
