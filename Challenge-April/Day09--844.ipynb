{
 "cells": [
  {
   "cell_type": "markdown",
   "metadata": {},
   "source": [
    "### Backspace String Compare\n",
    "Given two strings S and T, return if they are equal when both are typed into empty text editors. # means a backspace character.\n",
    "\n",
    "Example 1:\n",
    "\n",
    "Input: S = \"ab#c\", T = \"ad#c\"  \n",
    "Output: true  \n",
    "Explanation: Both S and T become \"ac\".  \n",
    "\n",
    "Example 2:  \n",
    "\n",
    "Input: S = \"ab##\", T = \"c#d#\"  \n",
    "Output: true  \n",
    "Explanation: Both S and T become \"\".  \n",
    "\n",
    "Example 3:\n",
    "\n",
    "Input: S = \"a##c\", T = \"#a#c\"  \n",
    "Output: true  \n",
    "Explanation: Both S and T become \"c\".  \n",
    "\n",
    "Example 4:\n",
    "\n",
    "Input: S = \"a#c\", T = \"b\"  \n",
    "Output: false  \n",
    "Explanation: S becomes \"c\" while T becomes \"b\".  \n",
    "\n",
    "Note:\n",
    "\n",
    "1 <= S.length <= 200  \n",
    "1 <= T.length <= 200  \n",
    "S and T only contain lowercase letters and '#' characters.  \n",
    "Follow up:\n",
    "\n",
    "Can you solve it in O(N) time and O(1) space?"
   ]
  },
  {
   "cell_type": "code",
   "execution_count": 1,
   "metadata": {},
   "outputs": [],
   "source": [
    "class Solution:\n",
    "    def backspaceCompare(self, S: str, T: str) -> bool:\n",
    "        LS=[]\n",
    "        for i in S:\n",
    "            if i == '#':\n",
    "                if LS != []:\n",
    "                    LS.pop()\n",
    "            else:\n",
    "                LS.append(i)\n",
    "        LT=[]\n",
    "        for i in T:\n",
    "            if i == '#':\n",
    "                if LT != []:\n",
    "                    LT.pop()\n",
    "            else:\n",
    "                LT.append(i)\n",
    "        if LS==LT:\n",
    "            return True\n",
    "        else:\n",
    "            return False"
   ]
  },
  {
   "cell_type": "code",
   "execution_count": null,
   "metadata": {},
   "outputs": [],
   "source": []
  }
 ],
 "metadata": {
  "kernelspec": {
   "display_name": "Python 3",
   "language": "python",
   "name": "python3"
  },
  "language_info": {
   "codemirror_mode": {
    "name": "ipython",
    "version": 3
   },
   "file_extension": ".py",
   "mimetype": "text/x-python",
   "name": "python",
   "nbconvert_exporter": "python",
   "pygments_lexer": "ipython3",
   "version": "3.7.3"
  }
 },
 "nbformat": 4,
 "nbformat_minor": 4
}
