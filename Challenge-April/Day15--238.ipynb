{
 "cells": [
  {
   "cell_type": "markdown",
   "metadata": {},
   "source": [
    "### Product of Array Except Self\n",
    "Given an array nums of n integers where n > 1,  return an array output such that output[i] is equal to the product of all the elements of nums except nums[i].\n",
    "\n",
    "Example:\n",
    "\n",
    "Input:  [1,2,3,4]  \n",
    "Output: [24,12,8,6]  \n",
    "Constraint: It's guaranteed that the product of the elements of any prefix or suffix of the array (including the whole array) fits in a 32 bit integer.\n",
    "\n",
    "Note: Please solve it without division and in O(n).\n",
    "\n",
    "Follow up:\n",
    "Could you solve it with constant space complexity? (The output array does not count as extra space for the purpose of space complexity analysis.)"
   ]
  },
  {
   "cell_type": "code",
   "execution_count": 10,
   "metadata": {},
   "outputs": [],
   "source": [
    "from typing import List"
   ]
  },
  {
   "cell_type": "code",
   "execution_count": 11,
   "metadata": {},
   "outputs": [],
   "source": [
    "# Time Limit Exceeded\n",
    "from functools import reduce\n",
    "class Solution:\n",
    "    def productExceptSelf(self, nums: List[int]) -> List[int]:\n",
    "        result=[]\n",
    "        for i in range(len(nums)):\n",
    "            temp=nums.copy()\n",
    "            print(i)\n",
    "            print(temp)\n",
    "            del temp[i]\n",
    "            result.append(reduce(lambda x,y:x * y,temp))\n",
    "        return result"
   ]
  },
  {
   "cell_type": "code",
   "execution_count": 25,
   "metadata": {},
   "outputs": [],
   "source": [
    "# L is the product from nums[0] to nums[i-1], R is the product from nums[i+1] to nums[len(nums)-1]\n",
    "# Time complexity: O(n)\n",
    "# Space complexity: O(n)\n",
    "class Solution:\n",
    "    def productExceptSelf(self, nums: List[int]) -> List[int]:\n",
    "        length=len(nums)\n",
    "        L,R,result=[0]*length,[0]*length,[1]*length\n",
    "        L[0]=1\n",
    "        for i in range(1, length):\n",
    "            L[i]=L[i-1]*nums[i-1]\n",
    "            \n",
    "        R[length-1]=1\n",
    "        \n",
    "        for i in range(length-2, -1, -1):\n",
    "            R[i]=R[i+1]*nums[i+1]\n",
    "            \n",
    "        for i in range(length):\n",
    "            result[i]=L[i]*R[i]\n",
    "            \n",
    "        return result"
   ]
  },
  {
   "cell_type": "code",
   "execution_count": 42,
   "metadata": {},
   "outputs": [],
   "source": [
    "# Time complexity: O(n)\n",
    "# Space complexity: O(1)\n",
    "\n",
    "class Solution:\n",
    "    def productExceptSelf(self, nums: List[int]) -> List[int]:\n",
    "        length=len(nums)\n",
    "        result=[1]*length\n",
    "        result[0]=1\n",
    "        for i in range(1, length):\n",
    "            result[i]=result[i-1]*nums[i-1]\n",
    "            \n",
    "        r=1\n",
    "        for i in range(length-2, -1, -1):\n",
    "            r=r*nums[i+1]\n",
    "            result[i]=r*result[i]\n",
    "            \n",
    "        return result"
   ]
  },
  {
   "cell_type": "code",
   "execution_count": 43,
   "metadata": {},
   "outputs": [
    {
     "name": "stdout",
     "output_type": "stream",
     "text": [
      "[1, 4, 20, 20, 160, 320, 3200]\n",
      "1920\n",
      "9600\n",
      "2400\n",
      "19200\n",
      "3840\n",
      "4800\n"
     ]
    },
    {
     "data": {
      "text/plain": [
       "[4800, 3840, 19200, 2400, 9600, 1920, 3200]"
      ]
     },
     "execution_count": 43,
     "metadata": {},
     "output_type": "execute_result"
    }
   ],
   "source": [
    "L=[4,5,1,8,2,10,6]\n",
    "S=Solution()\n",
    "S.productExceptSelf(L)"
   ]
  },
  {
   "cell_type": "code",
   "execution_count": null,
   "metadata": {},
   "outputs": [],
   "source": []
  }
 ],
 "metadata": {
  "kernelspec": {
   "display_name": "Python 3",
   "language": "python",
   "name": "python3"
  },
  "language_info": {
   "codemirror_mode": {
    "name": "ipython",
    "version": 3
   },
   "file_extension": ".py",
   "mimetype": "text/x-python",
   "name": "python",
   "nbconvert_exporter": "python",
   "pygments_lexer": "ipython3",
   "version": "3.7.3"
  }
 },
 "nbformat": 4,
 "nbformat_minor": 4
}
