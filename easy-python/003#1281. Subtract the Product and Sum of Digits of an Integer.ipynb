{
 "cells": [
  {
   "cell_type": "markdown",
   "metadata": {},
   "source": [
    "### #1281. Subtract the Product and Sum of Digits of an Integer\n",
    "Given an integer number n, return the difference between the product of its digits and the sum of its digits.\n",
    "\n",
    "Example 1:\n",
    "Input: n = 234  \n",
    "Output: 15   \n",
    "Explanation:   \n",
    "Product of digits = 2 * 3 * 4 = 24   \n",
    "Sum of digits = 2 + 3 + 4 = 9   \n",
    "Result = 24 - 9 = 15  \n",
    "\n",
    "Example 2:  \n",
    "Input: n = 4421  \n",
    "Output: 21  \n",
    "Explanation:   \n",
    "Product of digits = 4 * 4 * 2 * 1 = 32   \n",
    "Sum of digits = 4 + 4 + 2 + 1 = 11   \n",
    "Result = 32 - 11 = 21  \n",
    "\n",
    "Constraints:\n",
    "    1 <= n <= 10^5\n"
   ]
  },
  {
   "cell_type": "code",
   "execution_count": 2,
   "metadata": {},
   "outputs": [],
   "source": [
    "class Solution:\n",
    "    def subtractProductAndSum(self, n: int) -> int:\n",
    "        p=1\n",
    "        s=0\n",
    "        while n//10!=0:\n",
    "            t=n%10\n",
    "            p=p*t\n",
    "            s=s+t\n",
    "            n=n//10\n",
    "            \n",
    "        p=p*n\n",
    "        s=s+n\n",
    "            \n",
    "        return p-s      "
   ]
  },
  {
   "cell_type": "code",
   "execution_count": 3,
   "metadata": {},
   "outputs": [
    {
     "data": {
      "text/plain": [
       "21"
      ]
     },
     "execution_count": 3,
     "metadata": {},
     "output_type": "execute_result"
    }
   ],
   "source": [
    "S=Solution()\n",
    "S.subtractProductAndSum(4421)"
   ]
  },
  {
   "cell_type": "code",
   "execution_count": 4,
   "metadata": {},
   "outputs": [],
   "source": [
    "#Answer 1\n",
    "import numpy as np\n",
    "class Solution:\n",
    "    def subtractProductAndSum(self, n: int) -> int:\n",
    "        a = [int(x) for x in str(n)]\n",
    "        print(a)\n",
    "        return np.prod(a) - np.sum(a)"
   ]
  },
  {
   "cell_type": "code",
   "execution_count": 5,
   "metadata": {},
   "outputs": [
    {
     "name": "stdout",
     "output_type": "stream",
     "text": [
      "[4, 4, 2, 1]\n"
     ]
    },
    {
     "data": {
      "text/plain": [
       "21"
      ]
     },
     "execution_count": 5,
     "metadata": {},
     "output_type": "execute_result"
    }
   ],
   "source": [
    "S=Solution()\n",
    "S.subtractProductAndSum(4421)"
   ]
  },
  {
   "cell_type": "code",
   "execution_count": 6,
   "metadata": {},
   "outputs": [],
   "source": [
    "#Answer 2\n",
    "class Solution:\n",
    "    def subtractProductAndSum(self, n: int) -> int:\n",
    "        # Separate the number into digits\n",
    "        separated = [int(number) for number in str(n)]\n",
    "        # Calculate the product\n",
    "        _product = 1\n",
    "        for number in separated:\n",
    "            _product *= number\n",
    "        # Calculate the sum\n",
    "        _sum = sum(number for number in separated)\n",
    "        # Subtract the sum from the product and return\n",
    "        return (_product - _sum)"
   ]
  },
  {
   "cell_type": "code",
   "execution_count": null,
   "metadata": {},
   "outputs": [],
   "source": []
  }
 ],
 "metadata": {
  "kernelspec": {
   "display_name": "Alg",
   "language": "python",
   "name": "alg"
  },
  "language_info": {
   "codemirror_mode": {
    "name": "ipython",
    "version": 3
   },
   "file_extension": ".py",
   "mimetype": "text/x-python",
   "name": "python",
   "nbconvert_exporter": "python",
   "pygments_lexer": "ipython3",
   "version": "3.7.3"
  }
 },
 "nbformat": 4,
 "nbformat_minor": 2
}
