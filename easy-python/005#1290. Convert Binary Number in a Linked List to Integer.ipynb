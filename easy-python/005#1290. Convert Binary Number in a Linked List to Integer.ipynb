{
 "cells": [
  {
   "cell_type": "markdown",
   "metadata": {},
   "source": [
    "### #1290. Convert Binary Number in a Linked List to Integer\n",
    "Given head which is a reference node to a singly-linked list. The value of each node in the linked list is either 0 or 1. The linked list holds the binary representation of a number.\n",
    "\n",
    "Return the decimal value of the number in the linked list.\n",
    "\n",
    " \n",
    "\n",
    "Example 1:\n",
    "\n",
    "Input: head = [1,0,1]\n",
    "Output: 5\n",
    "Explanation: (101) in base 2 = (5) in base 10\n",
    "\n",
    "Example 2:\n",
    "\n",
    "Input: head = [0]\n",
    "Output: 0\n",
    "\n",
    "Example 3:\n",
    "\n",
    "Input: head = [1]\n",
    "Output: 1\n",
    "\n",
    "Example 4:\n",
    "\n",
    "Input: head = [1,0,0,1,0,0,1,1,1,0,0,0,0,0,0]\n",
    "Output: 18880\n",
    "\n",
    "Example 5:\n",
    "\n",
    "Input: head = [0,0]\n",
    "Output: 0\n",
    "\n",
    " \n",
    "\n",
    "Constraints:\n",
    "\n",
    "    The Linked List is not empty.\n",
    "    Number of nodes will not exceed 30.\n",
    "    Each node's value is either 0 or 1.\n"
   ]
  },
  {
   "cell_type": "code",
   "execution_count": 28,
   "metadata": {},
   "outputs": [],
   "source": [
    "class ListNode:\n",
    "    def __init__(self, x):\n",
    "        self.val = x\n",
    "        self.next = None\n",
    "class Solution:\n",
    "    def getDecimalValue(self, head: ListNode) -> int:\n",
    "        t=head\n",
    "        count=0\n",
    "        result=0\n",
    "        while t!=None:\n",
    "            count=count+1\n",
    "            t=t.next\n",
    "        t=head\n",
    "        while t!=None:\n",
    "            result=result+t.val*pow(2,count-1)\n",
    "            t=t.next\n",
    "            count=count-1\n",
    "        return result"
   ]
  },
  {
   "cell_type": "code",
   "execution_count": 29,
   "metadata": {},
   "outputs": [
    {
     "name": "stdout",
     "output_type": "stream",
     "text": [
      "5\n"
     ]
    }
   ],
   "source": [
    "head=ListNode(1)\n",
    "head.next=ListNode(0)\n",
    "head.next.next=ListNode(1)\n",
    "#while head!=None:\n",
    "#    print(head.val)\n",
    "#    head=head.next\n",
    "S=Solution()\n",
    "print(S.getDecimalValue(head))"
   ]
  },
  {
   "cell_type": "code",
   "execution_count": 30,
   "metadata": {},
   "outputs": [],
   "source": [
    "#Answer 1\n",
    "class ListNode:\n",
    "    def __init__(self, x):\n",
    "        self.val = x\n",
    "        self.next = None\n",
    "class Solution:\n",
    "    def getDecimalValue(self, head: ListNode) -> int:\n",
    "        if not head: return head\n",
    "        number = 0\n",
    "        while(head):\n",
    "            number = number*2 + head.val\n",
    "            head = head.next\n",
    "        return number"
   ]
  },
  {
   "cell_type": "code",
   "execution_count": 31,
   "metadata": {},
   "outputs": [
    {
     "name": "stdout",
     "output_type": "stream",
     "text": [
      "5\n"
     ]
    }
   ],
   "source": [
    "head=ListNode(1)\n",
    "head.next=ListNode(0)\n",
    "head.next.next=ListNode(1)\n",
    "S=Solution()\n",
    "print(S.getDecimalValue(head))"
   ]
  },
  {
   "cell_type": "code",
   "execution_count": 32,
   "metadata": {},
   "outputs": [],
   "source": [
    "#recursion\n",
    "class ListNode:\n",
    "    def __init__(self, x):\n",
    "        self.val = x\n",
    "        self.next = None\n",
    "class Solution:\n",
    "    def getDecimalValue(self, head: ListNode) -> int:\n",
    "        temp=head\n",
    "        if temp.next==None:\n",
    "            return temp.val\n",
    "        \n",
    "        while temp.next.next!=None:\n",
    "            temp=temp.next\n",
    "        v=temp.next.val\n",
    "        temp.next=None\n",
    "        return self.getDecimalValue(head)*2+v"
   ]
  },
  {
   "cell_type": "code",
   "execution_count": 33,
   "metadata": {},
   "outputs": [
    {
     "name": "stdout",
     "output_type": "stream",
     "text": [
      "5\n"
     ]
    }
   ],
   "source": [
    "head=ListNode(1)\n",
    "head.next=ListNode(0)\n",
    "head.next.next=ListNode(1)\n",
    "S=Solution()\n",
    "print(S.getDecimalValue(head))"
   ]
  },
  {
   "cell_type": "code",
   "execution_count": 34,
   "metadata": {},
   "outputs": [],
   "source": [
    "#Answer 2\n",
    "class ListNode:\n",
    "    def __init__(self, x):\n",
    "        self.val = x\n",
    "        self.next = None\n",
    "class Solution:\n",
    "    def getDecimalValue(self, head: ListNode) -> int:\n",
    "        ans = \"\"\n",
    "        while head:\n",
    "            ans = ans+str(head.val)\n",
    "            head = head.next\n",
    "        print(ans)\n",
    "        \n",
    "        return int(ans,2)"
   ]
  },
  {
   "cell_type": "code",
   "execution_count": null,
   "metadata": {},
   "outputs": [],
   "source": []
  }
 ],
 "metadata": {
  "kernelspec": {
   "display_name": "Alg",
   "language": "python",
   "name": "alg"
  },
  "language_info": {
   "codemirror_mode": {
    "name": "ipython",
    "version": 3
   },
   "file_extension": ".py",
   "mimetype": "text/x-python",
   "name": "python",
   "nbconvert_exporter": "python",
   "pygments_lexer": "ipython3",
   "version": "3.7.3"
  }
 },
 "nbformat": 4,
 "nbformat_minor": 2
}
