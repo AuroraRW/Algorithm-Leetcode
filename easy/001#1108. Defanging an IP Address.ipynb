{
 "cells": [
  {
   "cell_type": "markdown",
   "metadata": {},
   "source": [
    "### #1108 Defanging an IP Address\n",
    "Given a valid (IPv4) IP address, return a defanged version of that IP address.  \n",
    "A defanged IP address replaces every period \".\" with \"[.]\".  \n",
    "\n",
    "Example 1:  \n",
    "Input: address = \"1.1.1.1\"  \n",
    "Output: \"1[.]1[.]1[.]1\"  \n",
    "\n",
    "Example 2:  \n",
    "Input: address = \"255.100.50.0\"  \n",
    "Output: \"255[.]100[.]50[.]0\""
   ]
  },
  {
   "cell_type": "code",
   "execution_count": 8,
   "metadata": {},
   "outputs": [],
   "source": [
    "class Solution:\n",
    "    def defangIPaddr(self, address: str) -> str:\n",
    "        l=address.split('.')\n",
    "        #r=l[0]+'['+'.'+']'+l[1]+'['+'.'+']'+l[2]+'['+'.'+']'+l[3]\n",
    "        r=l[0]+'[.]'+l[1]+'[.]'+l[2]+'[.]'+l[3]\n",
    "        return r"
   ]
  },
  {
   "cell_type": "code",
   "execution_count": 9,
   "metadata": {},
   "outputs": [
    {
     "data": {
      "text/plain": [
       "'192[.]168[.]255[.]0'"
      ]
     },
     "execution_count": 9,
     "metadata": {},
     "output_type": "execute_result"
    }
   ],
   "source": [
    "S=Solution()\n",
    "S.defangIPaddr('192.168.255.0')"
   ]
  },
  {
   "cell_type": "code",
   "execution_count": 10,
   "metadata": {},
   "outputs": [],
   "source": [
    "#Answer 1\n",
    "class Solution:\n",
    "    def defangIPaddr(self, address: str) -> str:\n",
    "        return address.replace('.', '[.]')"
   ]
  },
  {
   "cell_type": "code",
   "execution_count": 11,
   "metadata": {},
   "outputs": [
    {
     "data": {
      "text/plain": [
       "'192[.]168[.]255[.]0'"
      ]
     },
     "execution_count": 11,
     "metadata": {},
     "output_type": "execute_result"
    }
   ],
   "source": [
    "S=Solution()\n",
    "S.defangIPaddr('192.168.255.0')"
   ]
  },
  {
   "cell_type": "code",
   "execution_count": null,
   "metadata": {},
   "outputs": [],
   "source": []
  }
 ],
 "metadata": {
  "kernelspec": {
   "display_name": "Alg",
   "language": "python",
   "name": "alg"
  },
  "language_info": {
   "codemirror_mode": {
    "name": "ipython",
    "version": 3
   },
   "file_extension": ".py",
   "mimetype": "text/x-python",
   "name": "python",
   "nbconvert_exporter": "python",
   "pygments_lexer": "ipython3",
   "version": "3.7.3"
  }
 },
 "nbformat": 4,
 "nbformat_minor": 2
}
