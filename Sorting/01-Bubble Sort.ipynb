{
 "cells": [
  {
   "cell_type": "markdown",
   "metadata": {},
   "source": [
    "### Bubble Sort"
   ]
  },
  {
   "cell_type": "code",
   "execution_count": 1,
   "metadata": {},
   "outputs": [],
   "source": [
    "L=[22, 34, 3, 32, 82, 55, 89, 50, 37, 5, 64, 35, 9, 70]\n",
    "def BubbleSort(arry: list)->list:\n",
    "    # begin from 1, total n-1 times\n",
    "    for i in range(1,len(arry)):\n",
    "        # begin form 0, total n-1 times\n",
    "        for j in range(0,len(arry)-i):\n",
    "            if arry[j]>arry[j+1]:\n",
    "                arry[j], arry[j+1]=arry[j+1],arry[j]    \n",
    "    return arry"
   ]
  },
  {
   "cell_type": "code",
   "execution_count": 2,
   "metadata": {},
   "outputs": [
    {
     "name": "stdout",
     "output_type": "stream",
     "text": [
      "[3, 5, 9, 22, 32, 34, 35, 37, 50, 55, 64, 70, 82, 89]\n"
     ]
    }
   ],
   "source": [
    "print(BubbleSort(L))"
   ]
  },
  {
   "cell_type": "code",
   "execution_count": null,
   "metadata": {},
   "outputs": [],
   "source": []
  }
 ],
 "metadata": {
  "kernelspec": {
   "display_name": "Alg",
   "language": "python",
   "name": "alg"
  },
  "language_info": {
   "codemirror_mode": {
    "name": "ipython",
    "version": 3
   },
   "file_extension": ".py",
   "mimetype": "text/x-python",
   "name": "python",
   "nbconvert_exporter": "python",
   "pygments_lexer": "ipython3",
   "version": "3.7.3"
  }
 },
 "nbformat": 4,
 "nbformat_minor": 2
}
