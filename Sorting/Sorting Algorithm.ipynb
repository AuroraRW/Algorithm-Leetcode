{
 "cells": [
  {
   "cell_type": "markdown",
   "metadata": {},
   "source": [
    "## Sorting Algorithm"
   ]
  },
  {
   "cell_type": "markdown",
   "metadata": {},
   "source": [
    "### https://www.runoob.com/w3cnote/ten-sorting-algorithm.html"
   ]
  },
  {
   "cell_type": "markdown",
   "metadata": {},
   "source": [
    "![title](01.png)"
   ]
  },
  {
   "cell_type": "markdown",
   "metadata": {},
   "source": [
    "![title](02.png)"
   ]
  },
  {
   "cell_type": "markdown",
   "metadata": {},
   "source": [
    "### 时间复杂度和稳定性"
   ]
  },
  {
   "cell_type": "markdown",
   "metadata": {},
   "source": []
  },
  {
   "cell_type": "markdown",
   "metadata": {},
   "source": [
    "In function, number, string, tuple pass the value, but list, dictionary pass address "
   ]
  },
  {
   "cell_type": "markdown",
   "metadata": {},
   "source": [
    "### 1 Bubble Sort"
   ]
  },
  {
   "cell_type": "code",
   "execution_count": 1,
   "metadata": {},
   "outputs": [],
   "source": [
    "L=[22, 34, 3, 32, 82, 55, 89, 50, 37, 5, 64, 35, 9, 70]\n",
    "def BubbleSort(arry: list)->list:\n",
    "    # begin from 1, total n-1 times\n",
    "    for i in range(1,len(arry)):\n",
    "        # begin form 0, total n-1 times\n",
    "        for j in range(0,len(arry)-i):\n",
    "            if arry[j]>arry[j+1]:\n",
    "                arry[j], arry[j+1]=arry[j+1],arry[j]    \n",
    "    return arry"
   ]
  },
  {
   "cell_type": "code",
   "execution_count": 14,
   "metadata": {
    "scrolled": true
   },
   "outputs": [
    {
     "name": "stdout",
     "output_type": "stream",
     "text": [
      "[3, 5, 9, 22, 32, 34, 35, 37, 50, 55, 64, 70, 82, 89]\n"
     ]
    }
   ],
   "source": [
    "print(BubbleSort(L))"
   ]
  },
  {
   "cell_type": "markdown",
   "metadata": {},
   "source": [
    "### 2 Selection Sort"
   ]
  },
  {
   "cell_type": "code",
   "execution_count": 30,
   "metadata": {},
   "outputs": [],
   "source": [
    "L=[22, 34, 3, 32, 82, 55, 89, 50, 37, 5, 64, 35, 9, 70]\n",
    "#pick the minimum number, exchange\n",
    "def SelectionSort(arry: list)-> list:\n",
    "    for i in range(len(arry)-1):\n",
    "        #m is the index of minimum \n",
    "        m=i\n",
    "        for j in range(i+1,len(arry)):\n",
    "            if arry[j]<arry[m]:\n",
    "                m=j\n",
    "        arry[m],arry[i]=arry[i],arry[m]   \n",
    "    return arry"
   ]
  },
  {
   "cell_type": "code",
   "execution_count": 31,
   "metadata": {},
   "outputs": [
    {
     "name": "stdout",
     "output_type": "stream",
     "text": [
      "[3, 5, 9, 22, 32, 34, 35, 37, 50, 55, 64, 70, 82, 89]\n"
     ]
    }
   ],
   "source": [
    "print(SelectionSort(L))"
   ]
  },
  {
   "cell_type": "markdown",
   "metadata": {},
   "source": [
    "### 3 Insertion Sort"
   ]
  },
  {
   "cell_type": "code",
   "execution_count": 127,
   "metadata": {},
   "outputs": [],
   "source": [
    "L=[22, 34, 3, 32, 82, 55, 89, 50, 37, 5, 64, 35, 9, 70]\n",
    "def InsertionSort(arry : list)-> list:\n",
    "    #from the second number to insert\n",
    "    for i in range(1,len(arry)):\n",
    "        for j in range(i,0,-1):\n",
    "            if arry[j-1]>arry[j]:\n",
    "                arry[j-1],arry[j]=arry[j],arry[j-1]\n",
    "                \n",
    "    return arry"
   ]
  },
  {
   "cell_type": "code",
   "execution_count": 128,
   "metadata": {},
   "outputs": [
    {
     "name": "stdout",
     "output_type": "stream",
     "text": [
      "[3, 5, 9, 22, 32, 34, 35, 37, 50, 55, 64, 70, 82, 89]\n"
     ]
    }
   ],
   "source": [
    "print(InsertionSort(L))"
   ]
  },
  {
   "cell_type": "code",
   "execution_count": 129,
   "metadata": {},
   "outputs": [],
   "source": [
    "L=[22, 34, 3, 32, 82, 55, 89, 50, 37, 5, 64, 35, 9, 70]\n",
    "def InsertionSort(arry : list)-> list:\n",
    "    #from the second number to insert\n",
    "    for i in range(1,len(arry)):\n",
    "        #copy the number\n",
    "        if arry[i-1]>arry[i]:\n",
    "            temp=arry[i]\n",
    "            #move backword until find the right place\n",
    "            for j in range(i-1,-1,-1):\n",
    "                if temp<arry[j]:\n",
    "                    arry[j+1]=arry[j]\n",
    "                else:\n",
    "                    #insert\n",
    "                    arry[j+1]=temp\n",
    "                    break\n",
    "                #temp is the minimum, left end\n",
    "                if j==0:\n",
    "                    arry[j]=temp               \n",
    "    return arry"
   ]
  },
  {
   "cell_type": "code",
   "execution_count": 130,
   "metadata": {},
   "outputs": [
    {
     "name": "stdout",
     "output_type": "stream",
     "text": [
      "[3, 5, 9, 22, 32, 34, 35, 37, 50, 55, 64, 70, 82, 89]\n"
     ]
    }
   ],
   "source": [
    "print(InsertionSort(L))"
   ]
  },
  {
   "cell_type": "markdown",
   "metadata": {},
   "source": [
    "### 4 Shell Sort"
   ]
  },
  {
   "cell_type": "code",
   "execution_count": 125,
   "metadata": {},
   "outputs": [],
   "source": [
    "L=[22, 34, 3, 32, 82, 55, 89, 50, 37, 5, 64, 35, 9, 70]\n",
    "def ShellSort(arry: List)-> List:\n",
    "    gap = len(arry) // 2\n",
    "    while gap >= 1:\n",
    "        for j in range(gap, len(arry)):\n",
    "            i = j\n",
    "            while (i - gap) >= 0:\n",
    "                if arry[i] < arry[i - gap]:\n",
    "                    arry[i], arry[i - gap] = arry[i - gap], arry[i]\n",
    "                    i -= gap\n",
    "                else:\n",
    "                    break\n",
    "        gap //= 2\n",
    "    return arry"
   ]
  },
  {
   "cell_type": "code",
   "execution_count": 126,
   "metadata": {},
   "outputs": [
    {
     "name": "stdout",
     "output_type": "stream",
     "text": [
      "[3, 5, 9, 22, 32, 34, 35, 37, 50, 55, 64, 70, 82, 89]\n"
     ]
    }
   ],
   "source": [
    "print(ShellSort(L))"
   ]
  },
  {
   "cell_type": "markdown",
   "metadata": {},
   "source": [
    "### 5 Merge Sort"
   ]
  },
  {
   "cell_type": "code",
   "execution_count": 51,
   "metadata": {},
   "outputs": [],
   "source": [
    "L=[22, 34, 3, 32, 82, 55, 89, 50, 37, 5, 64, 35, 9, 70]\n",
    "def MergeSort(arry:list,left:int, right:int):\n",
    "    if left<right:\n",
    "        center=(left+right)//2\n",
    "        MergeSort(arry,left,center)\n",
    "        MergeSort(arry,center+1,right)\n",
    "        Merge(arry,left,center,right)\n",
    "    return\n",
    "def Merge(arry:list,left:int, center:int, right:int):\n",
    "    i=left\n",
    "    j=center+1\n",
    "    temp=[]\n",
    "    while i<=center and j<=right:\n",
    "        if arry[i]<arry[j]:\n",
    "            temp.append(arry[i])\n",
    "            i+=1\n",
    "        else:\n",
    "            temp.append(arry[j])\n",
    "            j+=1\n",
    "    if i<=center:\n",
    "        for t in range(i,center+1):\n",
    "            temp.append(arry[t])\n",
    "    if j<=right:\n",
    "        for t in range(j,right+1):\n",
    "            temp.append(arry[t])\n",
    "    for t in range(left,right+1):\n",
    "        arry[t]=temp[t-left]"
   ]
  },
  {
   "cell_type": "code",
   "execution_count": 52,
   "metadata": {},
   "outputs": [
    {
     "name": "stdout",
     "output_type": "stream",
     "text": [
      "[3, 5, 9, 22, 32, 34, 35, 37, 50, 55, 64, 70, 82, 89]\n"
     ]
    }
   ],
   "source": [
    "MergeSort(L,0,len(L)-1)\n",
    "print(L)"
   ]
  },
  {
   "cell_type": "markdown",
   "metadata": {},
   "source": [
    "### 6 Quick Sort"
   ]
  },
  {
   "cell_type": "code",
   "execution_count": 48,
   "metadata": {},
   "outputs": [],
   "source": [
    "L=[22, 34, 3, 32, 82, 55, 89, 50, 37, 5, 64, 35, 9, 70]\n",
    "def partition(arry:list, left:int, right:int )->int:\n",
    "    i=left+1\n",
    "    j=right\n",
    "    while i<j:\n",
    "        while i<=j and arry[i]<=arry[left]:\n",
    "            i+=1\n",
    "        while i<=j and arry[j]>=arry[left]:\n",
    "            j-=1\n",
    "            \n",
    "        #exchange\n",
    "        if i<j:\n",
    "            arry[i],arry[j]=arry[j],arry[i]\n",
    "    #exchange pivot to j, not i\n",
    "    arry[left],arry[i]=arry[i],arry[left]\n",
    "    \n",
    "    return j\n",
    "\n",
    "def QuickSort(arry:list, left:int, right:int):\n",
    "    if left<right:\n",
    "        center=partition(arry,left,right)\n",
    "        QuickSort(arry,left,center-1)\n",
    "        QuickSort(arry,center+1,right)"
   ]
  },
  {
   "cell_type": "code",
   "execution_count": 47,
   "metadata": {},
   "outputs": [
    {
     "name": "stdout",
     "output_type": "stream",
     "text": [
      "[9, 5, 3, 82, 55, 89, 50, 37, 32, 64, 35, 34, 70, 22]\n"
     ]
    }
   ],
   "source": [
    "QuickSort(L,0,len(L)-1)\n",
    "print(L)"
   ]
  },
  {
   "cell_type": "markdown",
   "metadata": {},
   "source": [
    "### 7 Heap Sort"
   ]
  },
  {
   "cell_type": "code",
   "execution_count": null,
   "metadata": {},
   "outputs": [],
   "source": [
    "def HeapSort():\n",
    "    return"
   ]
  }
 ],
 "metadata": {
  "kernelspec": {
   "display_name": "Python 3",
   "language": "python",
   "name": "python3"
  },
  "language_info": {
   "codemirror_mode": {
    "name": "ipython",
    "version": 3
   },
   "file_extension": ".py",
   "mimetype": "text/x-python",
   "name": "python",
   "nbconvert_exporter": "python",
   "pygments_lexer": "ipython3",
   "version": "3.7.3"
  }
 },
 "nbformat": 4,
 "nbformat_minor": 2
}
