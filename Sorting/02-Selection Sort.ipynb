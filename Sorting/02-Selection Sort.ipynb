{
 "cells": [
  {
   "cell_type": "markdown",
   "metadata": {},
   "source": [
    "### Selection Sort"
   ]
  },
  {
   "cell_type": "code",
   "execution_count": 2,
   "metadata": {},
   "outputs": [],
   "source": [
    "L=[22, 34, 3, 32, 82, 55, 89, 50, 37, 5, 64, 35, 9, 70]\n",
    "#pick the minimum number, exchange\n",
    "def SelectionSort(arry: list)-> list:\n",
    "    for i in range(len(arry)-1):\n",
    "        #m is the index of minimum \n",
    "        m=i\n",
    "        for j in range(i+1,len(arry)):\n",
    "            if arry[j]<arry[m]:\n",
    "                m=j\n",
    "        arry[m],arry[i]=arry[i],arry[m]   \n",
    "    return arry"
   ]
  },
  {
   "cell_type": "code",
   "execution_count": 3,
   "metadata": {},
   "outputs": [
    {
     "name": "stdout",
     "output_type": "stream",
     "text": [
      "[3, 5, 9, 22, 32, 34, 35, 37, 50, 55, 64, 70, 82, 89]\n"
     ]
    }
   ],
   "source": [
    "print(SelectionSort(L))"
   ]
  },
  {
   "cell_type": "code",
   "execution_count": null,
   "metadata": {},
   "outputs": [],
   "source": []
  }
 ],
 "metadata": {
  "kernelspec": {
   "display_name": "Alg",
   "language": "python",
   "name": "alg"
  },
  "language_info": {
   "codemirror_mode": {
    "name": "ipython",
    "version": 3
   },
   "file_extension": ".py",
   "mimetype": "text/x-python",
   "name": "python",
   "nbconvert_exporter": "python",
   "pygments_lexer": "ipython3",
   "version": "3.7.3"
  }
 },
 "nbformat": 4,
 "nbformat_minor": 2
}
