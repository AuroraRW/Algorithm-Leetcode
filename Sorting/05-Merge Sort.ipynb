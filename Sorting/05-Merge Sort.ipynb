{
 "cells": [
  {
   "cell_type": "markdown",
   "metadata": {},
   "source": [
    "### Merge Sort"
   ]
  },
  {
   "cell_type": "code",
   "execution_count": 1,
   "metadata": {},
   "outputs": [],
   "source": [
    "L=[22, 34, 3, 32, 82, 55, 89, 50, 37, 5, 64, 35, 9, 70]\n",
    "def MergeSort(arry:list,left:int, right:int):\n",
    "    if left<right:\n",
    "        center=(left+right)//2\n",
    "        MergeSort(arry,left,center)\n",
    "        MergeSort(arry,center+1,right)\n",
    "        Merge(arry,left,center,right)\n",
    "    return\n",
    "def Merge(arry:list,left:int, center:int, right:int):\n",
    "    i=left\n",
    "    j=center+1\n",
    "    temp=[]\n",
    "    while i<=center and j<=right:\n",
    "        if arry[i]<arry[j]:\n",
    "            temp.append(arry[i])\n",
    "            i+=1\n",
    "        else:\n",
    "            temp.append(arry[j])\n",
    "            j+=1\n",
    "    if i<=center:\n",
    "        for t in range(i,center+1):\n",
    "            temp.append(arry[t])\n",
    "    if j<=right:\n",
    "        for t in range(j,right+1):\n",
    "            temp.append(arry[t])\n",
    "    for t in range(left,right+1):\n",
    "        arry[t]=temp[t-left]"
   ]
  },
  {
   "cell_type": "code",
   "execution_count": 2,
   "metadata": {},
   "outputs": [
    {
     "name": "stdout",
     "output_type": "stream",
     "text": [
      "[3, 5, 9, 22, 32, 34, 35, 37, 50, 55, 64, 70, 82, 89]\n"
     ]
    }
   ],
   "source": [
    "MergeSort(L,0,len(L)-1)\n",
    "print(L)"
   ]
  },
  {
   "cell_type": "code",
   "execution_count": null,
   "metadata": {},
   "outputs": [],
   "source": []
  }
 ],
 "metadata": {
  "kernelspec": {
   "display_name": "Alg",
   "language": "python",
   "name": "alg"
  },
  "language_info": {
   "codemirror_mode": {
    "name": "ipython",
    "version": 3
   },
   "file_extension": ".py",
   "mimetype": "text/x-python",
   "name": "python",
   "nbconvert_exporter": "python",
   "pygments_lexer": "ipython3",
   "version": "3.7.3"
  }
 },
 "nbformat": 4,
 "nbformat_minor": 2
}
