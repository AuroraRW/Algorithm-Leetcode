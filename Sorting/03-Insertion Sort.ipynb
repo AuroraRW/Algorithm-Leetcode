{
 "cells": [
  {
   "cell_type": "markdown",
   "metadata": {},
   "source": [
    "### Insertion Sort"
   ]
  },
  {
   "cell_type": "code",
   "execution_count": 1,
   "metadata": {},
   "outputs": [],
   "source": [
    "L=[22, 34, 3, 32, 82, 55, 89, 50, 37, 5, 64, 35, 9, 70]\n",
    "def InsertionSort(arry : list)-> list:\n",
    "    #from the second number to insert\n",
    "    for i in range(1,len(arry)):\n",
    "        for j in range(i,0,-1):\n",
    "            if arry[j-1]>arry[j]:\n",
    "                arry[j-1],arry[j]=arry[j],arry[j-1]\n",
    "                \n",
    "    return arry"
   ]
  },
  {
   "cell_type": "code",
   "execution_count": null,
   "metadata": {},
   "outputs": [],
   "source": [
    "print(InsertionSort(L))"
   ]
  },
  {
   "cell_type": "code",
   "execution_count": 2,
   "metadata": {},
   "outputs": [],
   "source": [
    "L=[22, 34, 3, 32, 82, 55, 89, 50, 37, 5, 64, 35, 9, 70]\n",
    "def InsertionSort(arry : list)-> list:\n",
    "    #from the second number to insert\n",
    "    for i in range(1,len(arry)):\n",
    "        #copy the number\n",
    "        if arry[i-1]>arry[i]:\n",
    "            temp=arry[i]\n",
    "            #move backword until find the right place\n",
    "            for j in range(i-1,-1,-1):\n",
    "                if temp<arry[j]:\n",
    "                    arry[j+1]=arry[j]\n",
    "                else:\n",
    "                    #insert\n",
    "                    arry[j+1]=temp\n",
    "                    break\n",
    "                #temp is the minimum, left end\n",
    "                if j==0:\n",
    "                    arry[j]=temp               \n",
    "    return arry"
   ]
  },
  {
   "cell_type": "code",
   "execution_count": 3,
   "metadata": {},
   "outputs": [
    {
     "name": "stdout",
     "output_type": "stream",
     "text": [
      "[3, 5, 9, 22, 32, 34, 35, 37, 50, 55, 64, 70, 82, 89]\n"
     ]
    }
   ],
   "source": [
    "print(InsertionSort(L))"
   ]
  },
  {
   "cell_type": "code",
   "execution_count": null,
   "metadata": {},
   "outputs": [],
   "source": []
  }
 ],
 "metadata": {
  "kernelspec": {
   "display_name": "Alg",
   "language": "python",
   "name": "alg"
  },
  "language_info": {
   "codemirror_mode": {
    "name": "ipython",
    "version": 3
   },
   "file_extension": ".py",
   "mimetype": "text/x-python",
   "name": "python",
   "nbconvert_exporter": "python",
   "pygments_lexer": "ipython3",
   "version": "3.7.3"
  }
 },
 "nbformat": 4,
 "nbformat_minor": 2
}
