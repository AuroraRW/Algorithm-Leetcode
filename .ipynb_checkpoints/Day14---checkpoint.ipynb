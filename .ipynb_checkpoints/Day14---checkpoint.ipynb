{
 "cells": [
  {
   "cell_type": "code",
   "execution_count": null,
   "metadata": {},
   "outputs": [],
   "source": [
    "class Solution:\n",
    "    def stringShift(self, s: str, shift: List[List[int]]) -> str:\n",
    "        amount=0\n",
    "        for operate in shift:\n",
    "            if operate[0]==0:\n",
    "                amount=amount-operate[1]\n",
    "            else:\n",
    "                amount=amount+operate[1]\n",
    "        print(amount)\n",
    "        if amount<0:\n",
    "            amount=(-amount)%len(s)\n",
    "            result=s[amount:]+s[:amount]\n",
    "        else:\n",
    "            amount=amount%len(s)\n",
    "            result=s[len(s)-amount:]+s[:len(s)-amount]\n",
    "        return result"
   ]
  }
 ],
 "metadata": {
  "kernelspec": {
   "display_name": "Python 3",
   "language": "python",
   "name": "python3"
  },
  "language_info": {
   "codemirror_mode": {
    "name": "ipython",
    "version": 3
   },
   "file_extension": ".py",
   "mimetype": "text/x-python",
   "name": "python",
   "nbconvert_exporter": "python",
   "pygments_lexer": "ipython3",
   "version": "3.7.3"
  }
 },
 "nbformat": 4,
 "nbformat_minor": 4
}
