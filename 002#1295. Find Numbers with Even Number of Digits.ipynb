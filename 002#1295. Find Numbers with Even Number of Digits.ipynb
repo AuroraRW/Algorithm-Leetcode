{
 "cells": [
  {
   "cell_type": "markdown",
   "metadata": {},
   "source": [
    "### #1295. Find Numbers with Even Number of Digits\n",
    "Given an array nums of integers, return how many of them contain an even number of digits.  \n",
    "\n",
    "Example 1:  \n",
    "Input: nums = [12,345,2,6,7896]  \n",
    "Output: 2  \n",
    "Explanation:   \n",
    "12 contains 2 digits (even number of digits). \n",
    "345 contains 3 digits (odd number of digits). \n",
    "2 contains 1 digit (odd number of digits). \n",
    "6 contains 1 digit (odd number of digits). \n",
    "7896 contains 4 digits (even number of digits). \n",
    "Therefore only 12 and 7896 contain an even number of digits.  \n",
    "\n",
    "Example 2:  \n",
    "Input: nums = [555,901,482,1771]\n",
    "Output: 1 \n",
    "Explanation: \n",
    "Only 1771 contains an even number of digits.\n",
    "\n",
    "Constraints:\n",
    "    1 <= nums.length <= 500\n",
    "    1 <= nums[i] <= 10^5"
   ]
  },
  {
   "cell_type": "code",
   "execution_count": 5,
   "metadata": {},
   "outputs": [],
   "source": [
    "from typing import List"
   ]
  },
  {
   "cell_type": "code",
   "execution_count": 6,
   "metadata": {},
   "outputs": [],
   "source": [
    "class Solution:\n",
    "    def findNumbers(self, nums: List[int]) -> int:\n",
    "        count=0\n",
    "        for number in nums:\n",
    "            d=1\n",
    "            while number//10!=0:\n",
    "                number=number//10\n",
    "                d=d+1\n",
    "            if d%2==0:\n",
    "                count=count+1\n",
    "        return count        "
   ]
  },
  {
   "cell_type": "code",
   "execution_count": 7,
   "metadata": {},
   "outputs": [
    {
     "name": "stdout",
     "output_type": "stream",
     "text": [
      "3\n"
     ]
    }
   ],
   "source": [
    "S=Solution()\n",
    "nums=[123,12,1234,123456]\n",
    "r=S.findNumbers(nums)\n",
    "print(r)"
   ]
  },
  {
   "cell_type": "code",
   "execution_count": 8,
   "metadata": {},
   "outputs": [],
   "source": [
    "#Answer 1\n",
    "class Solution:\n",
    "    def findNumbers(self, nums: List[int]) -> int:\n",
    "        print([x for x in nums if len(str(x)) % 2 == 0])\n",
    "        return len([x for x in nums if len(str(x)) % 2 == 0])"
   ]
  },
  {
   "cell_type": "code",
   "execution_count": 9,
   "metadata": {},
   "outputs": [
    {
     "name": "stdout",
     "output_type": "stream",
     "text": [
      "[12, 1234, 123456]\n",
      "3\n"
     ]
    }
   ],
   "source": [
    "S=Solution()\n",
    "nums=[123,12,1234,123456]\n",
    "r=S.findNumbers(nums)\n",
    "print(r)"
   ]
  },
  {
   "cell_type": "code",
   "execution_count": 10,
   "metadata": {},
   "outputs": [],
   "source": [
    "#Answer 2\n",
    "class Solution:\n",
    "    def findNumbers(self, nums: List[int]) -> int:\n",
    "        return sum(1 for num in nums if not len(str(num)) % 2)"
   ]
  },
  {
   "cell_type": "code",
   "execution_count": 11,
   "metadata": {},
   "outputs": [
    {
     "name": "stdout",
     "output_type": "stream",
     "text": [
      "3\n"
     ]
    }
   ],
   "source": [
    "S=Solution()\n",
    "nums=[123,12,1234,123456]\n",
    "r=S.findNumbers(nums)\n",
    "print(r)"
   ]
  },
  {
   "cell_type": "code",
   "execution_count": null,
   "metadata": {},
   "outputs": [],
   "source": []
  }
 ],
 "metadata": {
  "kernelspec": {
   "display_name": "Alg",
   "language": "python",
   "name": "alg"
  },
  "language_info": {
   "codemirror_mode": {
    "name": "ipython",
    "version": 3
   },
   "file_extension": ".py",
   "mimetype": "text/x-python",
   "name": "python",
   "nbconvert_exporter": "python",
   "pygments_lexer": "ipython3",
   "version": "3.7.3"
  }
 },
 "nbformat": 4,
 "nbformat_minor": 2
}
